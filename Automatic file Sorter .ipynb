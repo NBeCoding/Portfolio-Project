{
 "cells": [
  {
   "cell_type": "markdown",
   "id": "a850e696-a706-444e-8121-0d8b8b100f64",
   "metadata": {},
   "source": [
    "Automatic File Sorter\n"
   ]
  },
  {
   "cell_type": "code",
   "execution_count": 23,
   "id": "8ebae356-3540-419f-9c66-51f912d3bc74",
   "metadata": {},
   "outputs": [],
   "source": [
    "import os, shutil"
   ]
  },
  {
   "cell_type": "code",
   "execution_count": 24,
   "id": "331d1ff4-5e82-4077-837f-eb7087cc7243",
   "metadata": {},
   "outputs": [],
   "source": [
    "path = r'F:/new new/'"
   ]
  },
  {
   "cell_type": "code",
   "execution_count": 25,
   "id": "f3b6fde9-048f-48df-a1f0-21dffcd1f627",
   "metadata": {},
   "outputs": [],
   "source": [
    "file_name = os.listdir(path)"
   ]
  },
  {
   "cell_type": "code",
   "execution_count": 26,
   "id": "c3dcd321-de85-413e-ae45-09986db7be5d",
   "metadata": {},
   "outputs": [],
   "source": [
    "folder_name = ['csv files', 'image files', 'R files']\n",
    "\n",
    "for loop in range(0,3):\n",
    "    if not os.path.exists(path + folder_name[loop]):\n",
    "        #print(path + folder_name[loop])\n",
    "        os.makedirs(path + folder_name[loop])\n",
    "\n",
    "for file in file_name:\n",
    "    if '.csv' in file and not os.path.exists(path + 'csv files/' + file):\n",
    "        shutil.move(path + file, path + 'csv files/' + file)\n",
    "    elif '.JPG' in file and not os.path.exists(path + 'image files/' + file):\n",
    "        shutil.move(path + file, path + 'image files/' + file)\n",
    "    elif '.R' in file and not os.path.exists(path + 'R files/' + file):\n",
    "        shutil.move(path + file, path + 'R files/' + file)\n"
   ]
  },
  {
   "cell_type": "code",
   "execution_count": null,
   "id": "4f97ffb3-dce1-41dc-803d-795b792b9382",
   "metadata": {},
   "outputs": [],
   "source": [
    "\n",
    "\n"
   ]
  },
  {
   "cell_type": "code",
   "execution_count": null,
   "id": "8033e0b7-563b-4aec-a466-ed07aff09440",
   "metadata": {},
   "outputs": [],
   "source": []
  },
  {
   "cell_type": "code",
   "execution_count": null,
   "id": "31746353-a2fc-469b-82ce-39f876c7e568",
   "metadata": {},
   "outputs": [],
   "source": []
  },
  {
   "cell_type": "code",
   "execution_count": null,
   "id": "b6e20f3a-ae32-485e-b004-f50b2bcd2134",
   "metadata": {},
   "outputs": [],
   "source": []
  },
  {
   "cell_type": "code",
   "execution_count": null,
   "id": "6864ffae-8d9a-437e-ac4e-cad77740dcf8",
   "metadata": {},
   "outputs": [],
   "source": []
  },
  {
   "cell_type": "code",
   "execution_count": null,
   "id": "a5e65707-25b2-4bee-9acd-0bf4deac1813",
   "metadata": {},
   "outputs": [],
   "source": []
  },
  {
   "cell_type": "code",
   "execution_count": null,
   "id": "c4b8af9a-7f13-402a-b7b6-1e638e808982",
   "metadata": {},
   "outputs": [],
   "source": []
  },
  {
   "cell_type": "code",
   "execution_count": null,
   "id": "b2d3aa6d-4816-42e8-916a-d14bae060bd3",
   "metadata": {},
   "outputs": [],
   "source": []
  }
 ],
 "metadata": {
  "kernelspec": {
   "display_name": "Python 3 (ipykernel)",
   "language": "python",
   "name": "python3"
  },
  "language_info": {
   "codemirror_mode": {
    "name": "ipython",
    "version": 3
   },
   "file_extension": ".py",
   "mimetype": "text/x-python",
   "name": "python",
   "nbconvert_exporter": "python",
   "pygments_lexer": "ipython3",
   "version": "3.11.3"
  }
 },
 "nbformat": 4,
 "nbformat_minor": 5
}
