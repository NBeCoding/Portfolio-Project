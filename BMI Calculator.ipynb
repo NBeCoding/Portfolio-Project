{
 "cells": [
  {
   "cell_type": "markdown",
   "id": "ae7d9205-0a0a-4a9a-b314-5d346f71076c",
   "metadata": {},
   "source": [
    "BMI Calculator\n"
   ]
  },
  {
   "cell_type": "code",
   "execution_count": 23,
   "id": "e0fee3c4-7cb0-4f47-9871-5135835d419f",
   "metadata": {},
   "outputs": [
    {
     "name": "stdin",
     "output_type": "stream",
     "text": [
      "Enter your weight in Kg:  567\n",
      "Enter your height in m:  1.6\n"
     ]
    },
    {
     "name": "stdout",
     "output_type": "stream",
     "text": [
      "221.48437499999994\n",
      "Obese Class III\n"
     ]
    }
   ],
   "source": [
    "weight = input('Enter your weight in Kg: ')\n",
    "\n",
    "height = input('Enter your height in m: ')\n",
    "\n",
    "BMI = (float(weight))/(float(height)*float(height))\n",
    "\n",
    "print (BMI)\n",
    "\n",
    "if BMI>0:\n",
    "    if BMI < 16:\n",
    "        print('Ever Thinness')\n",
    "    elif BMI < 17:\n",
    "        print('Moderate Thinners')\n",
    "    elif BMI < 18.5:\n",
    "        print('Mild Thinness')\n",
    "    elif BMI < 25:\n",
    "        print('Normal')\n",
    "    elif BMI <30:\n",
    "        print ('Overweight') \n",
    "    elif BMI < 35:\n",
    "        print ('Obese Class I')\n",
    "    elif BMI < 40:\n",
    "        print ('Obese Class II') \n",
    "    elif BMI > 40:\n",
    "        print ('Obese Class III') \n",
    "else:\n",
    "    Print ('enter valid input')\n",
    "\n"
   ]
  },
  {
   "cell_type": "code",
   "execution_count": null,
   "id": "dd9c9806-f3fb-46d2-b3af-4890829ac4d7",
   "metadata": {},
   "outputs": [],
   "source": []
  },
  {
   "cell_type": "code",
   "execution_count": null,
   "id": "7f29af16-0502-42a1-b8ef-0b76d2402e60",
   "metadata": {},
   "outputs": [],
   "source": [
    "\n"
   ]
  },
  {
   "cell_type": "code",
   "execution_count": null,
   "id": "391c4526-6d5e-49f2-afd3-4fc704be9e9f",
   "metadata": {},
   "outputs": [],
   "source": []
  }
 ],
 "metadata": {
  "kernelspec": {
   "display_name": "Python 3 (ipykernel)",
   "language": "python",
   "name": "python3"
  },
  "language_info": {
   "codemirror_mode": {
    "name": "ipython",
    "version": 3
   },
   "file_extension": ".py",
   "mimetype": "text/x-python",
   "name": "python",
   "nbconvert_exporter": "python",
   "pygments_lexer": "ipython3",
   "version": "3.11.3"
  }
 },
 "nbformat": 4,
 "nbformat_minor": 5
}
